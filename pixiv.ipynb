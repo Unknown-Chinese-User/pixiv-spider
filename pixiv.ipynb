{
 "cells": [
  {
   "cell_type": "markdown",
   "id": "ahead-bundle",
   "metadata": {},
   "source": [
    "### 运行一次来获得cookie\n",
    "- 注意填充自己的帐号密码"
   ]
  },
  {
   "cell_type": "code",
   "execution_count": null,
   "id": "connected-scope",
   "metadata": {},
   "outputs": [],
   "source": [
    "import requests\n",
    "import time\n",
    "from selenium import webdriver\n",
    "\n",
    "def get_pixiv_cookie(pixiv_id,pixiv_pw):\n",
    "    driver = webdriver.Chrome()  # Optional argument, if not specified will search pat\n",
    "    driver.get('https://accounts.pixiv.net/login');\n",
    "\n",
    "    time.sleep(0.5)\n",
    "\n",
    "    account = driver.find_element_by_css_selector('input[autocomplete=\"username\"]')\n",
    "    account.send_keys(pixiv_id)\n",
    "    time.sleep(10)\n",
    "    password = driver.find_element_by_css_selector('input[autocomplete=\"current-password\"]')\n",
    "    password.send_keys(pixiv_pw)\n",
    "\n",
    "    time.sleep(1)\n",
    "\n",
    "    password.submit()\n",
    "    time.sleep(10)\n",
    "    cookie=driver.get_cookies()\n",
    "    driver.close()\n",
    "    return cookie\n",
    "\n",
    "f=open(\"account.txt\")\n",
    "\n",
    "\n",
    "p_id = f.readline().rstrip()\n",
    "p_pw = f.readline().rstrip()\n",
    "\n",
    "f.close()\n",
    "\n",
    "cookies_list=get_pixiv_cookie(p_id,p_pw)\n",
    "\n",
    "f=open(\"cookie.txt\",\"w\")\n",
    "f.write(str(cookies_list))\n",
    "f.close()"
   ]
  },
  {
   "cell_type": "markdown",
   "id": "classical-selling",
   "metadata": {},
   "source": [
    "### 下面的直接运行可以就可以根据id爬图了"
   ]
  },
  {
   "cell_type": "code",
   "execution_count": null,
   "id": "worthy-insulation",
   "metadata": {},
   "outputs": [],
   "source": [
    "import requests\n",
    "import urllib.request\n",
    "import urllib.parse\n",
    "from bs4 import BeautifulSoup\n",
    "from PIL import Image\n",
    "import sys\n",
    "import time\n",
    "from selenium import webdriver\n",
    "import json"
   ]
  },
  {
   "cell_type": "markdown",
   "id": "brazilian-elephant",
   "metadata": {},
   "source": [
    "- 从保存的文件获取cookie"
   ]
  },
  {
   "cell_type": "code",
   "execution_count": null,
   "id": "elder-poetry",
   "metadata": {},
   "outputs": [],
   "source": [
    "f=open(\"cookie.txt\",\"r\")\n",
    "cookie_list=eval(f.readline())\n",
    "f.close()\n",
    "\n",
    "s = requests.Session()\n",
    "for cookie in cookie_list:\n",
    "    s.cookies.set(cookie['name'], cookie['value'])"
   ]
  },
  {
   "cell_type": "markdown",
   "id": "considered-ribbon",
   "metadata": {},
   "source": [
    "- 获取预载信息"
   ]
  },
  {
   "cell_type": "code",
   "execution_count": null,
   "id": "handed-hearts",
   "metadata": {},
   "outputs": [],
   "source": [
    "pid='86685722'\n",
    "delay=0.5\n",
    "\n",
    "url=\"https://www.pixiv.net/artworks/\"+pid\n",
    "hder1={\n",
    "    'User-Agent':'Mozilla/5.0 (Windows NT 10.0; Win64; x64) AppleWebKit/537.36 (KHTML, like Gecko) Chrome/84.0.4147.135 Safari/537.36 Edg/84.0.522.63',\n",
    "}\n",
    "r=s.get(url,headers=hder1)\n",
    "\n",
    "soup=BeautifulSoup(r.text, 'html.parser')\n",
    "meta=soup.find('meta',id=\"meta-preload-data\")# 格式化后可清晰看到这里是预载信息\n",
    "js=json.loads(meta['content'])\n",
    "# print(json.dumps(js,indent=2))"
   ]
  },
  {
   "attachments": {},
   "cell_type": "markdown",
   "id": "abandoned-mining",
   "metadata": {},
   "source": [
    "使用`print(soup.prettify())`打印输出之后,可以清楚的发现预载信息在一个叫`meta-preload-data`的`meta`中\n",
    "\n",
    "之后将内容提取之后也格式化\n",
    "\n",
    "这是json文件,使用`json.dumps(js,indent=2)`进行格式化输出\n",
    "\n",
    "![image.png](images/image2.png)\n",
    "\n",
    "js本身是列表,通过列表的形式获取需要的信息,这里需要的主要是url和页数信息"
   ]
  },
  {
   "cell_type": "markdown",
   "id": "weighted-hurricane",
   "metadata": {},
   "source": [
    "- 获取图片"
   ]
  },
  {
   "cell_type": "code",
   "execution_count": null,
   "id": "hazardous-welding",
   "metadata": {},
   "outputs": [],
   "source": [
    "def get_image(_url,_hder,_filename=None,_folder='img'):\n",
    "    if _filename==None:\n",
    "        img_path=urllib.parse.urlparse(_url).path\n",
    "        _filename=img_path.split('/')[-1]#路径的最后一项是文件名\n",
    "    \n",
    "    f=open(_folder+'/'+_filename,\"wb\")\n",
    "    re=requests.get(_url,headers=_hder)\n",
    "\n",
    "    f.write(re.content)\n",
    "    f.close()\n",
    "\n",
    "hder2 = {\n",
    "    'User-Agent':'Mozilla/5.0 (Windows NT 10.0; Win64; x64) AppleWebKit/537.36 (KHTML, like Gecko) Chrome/84.0.4147.135 Safari/537.36 Edg/84.0.522.63',\n",
    "    \"referer\":\"https://www.pixiv.net/\"\n",
    "}\n",
    "\n",
    "ori=js[\"illust\"][pid]['urls']['original']\n",
    "pagecount=js['illust'][pid]['pageCount']\n",
    "\n",
    "for i in range(pagecount):\n",
    "    url=ori.replace(\"p0\",\"p\"+str(i))\n",
    "#     print(url)\n",
    "    get_image(url,hder2)\n",
    "    time.sleep(delay)"
   ]
  },
  {
   "attachments": {},
   "cell_type": "markdown",
   "id": "thermal-analyst",
   "metadata": {},
   "source": [
    "这里注意只有`pixiv.net`发出的原图请求`pximg.net`才会受理,这个需要在原图界面观察Network后筛选得到\n",
    "\n",
    "![image.png](images/image2.png)"
   ]
  },
  {
   "cell_type": "markdown",
   "id": "shared-canyon",
   "metadata": {},
   "source": [
    "### 整合了以上代码"
   ]
  },
  {
   "cell_type": "code",
   "execution_count": null,
   "id": "adjusted-result",
   "metadata": {},
   "outputs": [],
   "source": [
    "import requests\n",
    "import urllib.request\n",
    "import urllib.parse\n",
    "from bs4 import BeautifulSoup\n",
    "from PIL import Image\n",
    "import sys\n",
    "import time\n",
    "import json\n",
    "\n",
    "def get_image(_url,_hder,_filename=None,_folder='img'):\n",
    "    if _filename==None:\n",
    "        img_path=urllib.parse.urlparse(_url).path\n",
    "        _filename=img_path.split('/')[-1]#路径的最后一项是文件名\n",
    "    \n",
    "    f=open(_folder+'/'+_filename,\"wb\")\n",
    "    re=requests.get(_url,headers=_hder)\n",
    "\n",
    "    f.write(re.content)\n",
    "    f.close()\n",
    "\n",
    "def download_id(pid):\n",
    "    f=open(\"cookie.txt\",\"r\")\n",
    "    cookie_list=eval(f.readline())\n",
    "    f.close()\n",
    "\n",
    "    s = requests.Session()\n",
    "    for cookie in cookie_list:\n",
    "        s.cookies.set(cookie['name'], cookie['value'])\n",
    "        \n",
    "    if(type(pid)==int):\n",
    "        pid=str(pid)\n",
    "    \n",
    "    delay=0.5\n",
    "\n",
    "    url=\"https://www.pixiv.net/artworks/\"+pid\n",
    "    hder1={\n",
    "        'User-Agent':'Mozilla/5.0 (Windows NT 10.0; Win64; x64) AppleWebKit/537.36 (KHTML, like Gecko) Chrome/84.0.4147.135 Safari/537.36 Edg/84.0.522.63',\n",
    "    }\n",
    "    r=s.get(url,headers=hder1)\n",
    "\n",
    "    soup=BeautifulSoup(r.text, 'html.parser')\n",
    "    meta=soup.find('meta',id=\"meta-preload-data\")\n",
    "    js=json.loads(meta['content'])\n",
    "    \n",
    "    hder2 = {\n",
    "        'User-Agent':'Mozilla/5.0 (Windows NT 10.0; Win64; x64) AppleWebKit/537.36 (KHTML, like Gecko) Chrome/84.0.4147.135 Safari/537.36 Edg/84.0.522.63',\n",
    "        \"referer\":\"https://www.pixiv.net/\"\n",
    "    }\n",
    "\n",
    "    ori=js[\"illust\"][pid]['urls']['original']\n",
    "    pagecount=js['illust'][pid]['pageCount']\n",
    "\n",
    "    for i in range(pagecount):\n",
    "        url=ori.replace(\"p0\",\"p\"+str(i))\n",
    "        get_image(url,hder2)\n",
    "        time.sleep(delay)"
   ]
  },
  {
   "cell_type": "code",
   "execution_count": null,
   "id": "whole-shoulder",
   "metadata": {},
   "outputs": [],
   "source": [
    "download_id(90479236)"
   ]
  },
  {
   "cell_type": "code",
   "execution_count": null,
   "id": "together-consultation",
   "metadata": {},
   "outputs": [],
   "source": []
  }
 ],
 "metadata": {
  "kernelspec": {
   "display_name": "Python 3",
   "language": "python",
   "name": "python3"
  },
  "language_info": {
   "codemirror_mode": {
    "name": "ipython",
    "version": 3
   },
   "file_extension": ".py",
   "mimetype": "text/x-python",
   "name": "python",
   "nbconvert_exporter": "python",
   "pygments_lexer": "ipython3",
   "version": "3.9.1"
  }
 },
 "nbformat": 4,
 "nbformat_minor": 5
}
